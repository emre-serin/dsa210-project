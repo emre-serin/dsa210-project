{
  "nbformat": 4,
  "nbformat_minor": 0,
  "metadata": {
    "colab": {
      "provenance": [],
      "authorship_tag": "ABX9TyPCQ2OdgRH9JwrFagIDwpHq",
      "include_colab_link": true
    },
    "kernelspec": {
      "name": "python3",
      "display_name": "Python 3"
    },
    "language_info": {
      "name": "python"
    }
  },
  "cells": [
    {
      "cell_type": "markdown",
      "metadata": {
        "id": "view-in-github",
        "colab_type": "text"
      },
      "source": [
        "<a href=\"https://colab.research.google.com/github/emre-serin/dsa210-project/blob/main/DSA210_YoutubeDataAnalysis.ipynb\" target=\"_parent\"><img src=\"https://colab.research.google.com/assets/colab-badge.svg\" alt=\"Open In Colab\"/></a>"
      ]
    },
    {
      "cell_type": "markdown",
      "source": [
        "IMPORTS"
      ],
      "metadata": {
        "id": "Z1f9P6-5aNag"
      }
    },
    {
      "cell_type": "code",
      "source": [
        "!pip install pandas matplotlib\n",
        "import pandas as pd\n",
        "import json\n",
        "from datetime import datetime\n",
        "import matplotlib.pyplot as plt\n",
        "from google.colab import files\n",
        "from scipy.stats import ttest_ind"
      ],
      "metadata": {
        "colab": {
          "base_uri": "https://localhost:8080/"
        },
        "id": "TkChl_lHpRSt",
        "outputId": "b11f67a3-603c-46bf-8523-5580d56b1249"
      },
      "execution_count": 61,
      "outputs": [
        {
          "output_type": "stream",
          "name": "stdout",
          "text": [
            "Requirement already satisfied: pandas in /usr/local/lib/python3.10/dist-packages (2.2.2)\n",
            "Requirement already satisfied: matplotlib in /usr/local/lib/python3.10/dist-packages (3.10.0)\n",
            "Requirement already satisfied: numpy>=1.22.4 in /usr/local/lib/python3.10/dist-packages (from pandas) (1.26.4)\n",
            "Requirement already satisfied: python-dateutil>=2.8.2 in /usr/local/lib/python3.10/dist-packages (from pandas) (2.8.2)\n",
            "Requirement already satisfied: pytz>=2020.1 in /usr/local/lib/python3.10/dist-packages (from pandas) (2024.2)\n",
            "Requirement already satisfied: tzdata>=2022.7 in /usr/local/lib/python3.10/dist-packages (from pandas) (2024.2)\n",
            "Requirement already satisfied: contourpy>=1.0.1 in /usr/local/lib/python3.10/dist-packages (from matplotlib) (1.3.1)\n",
            "Requirement already satisfied: cycler>=0.10 in /usr/local/lib/python3.10/dist-packages (from matplotlib) (0.12.1)\n",
            "Requirement already satisfied: fonttools>=4.22.0 in /usr/local/lib/python3.10/dist-packages (from matplotlib) (4.55.3)\n",
            "Requirement already satisfied: kiwisolver>=1.3.1 in /usr/local/lib/python3.10/dist-packages (from matplotlib) (1.4.8)\n",
            "Requirement already satisfied: packaging>=20.0 in /usr/local/lib/python3.10/dist-packages (from matplotlib) (24.2)\n",
            "Requirement already satisfied: pillow>=8 in /usr/local/lib/python3.10/dist-packages (from matplotlib) (11.1.0)\n",
            "Requirement already satisfied: pyparsing>=2.3.1 in /usr/local/lib/python3.10/dist-packages (from matplotlib) (3.2.1)\n",
            "Requirement already satisfied: six>=1.5 in /usr/local/lib/python3.10/dist-packages (from python-dateutil>=2.8.2->pandas) (1.17.0)\n"
          ]
        }
      ]
    },
    {
      "cell_type": "markdown",
      "source": [
        "DATA PREPROCESSING\n",
        "\n",
        "I cleaned and normalized my watch history data in this part of the code. I extracted the videos' years and sorted them by time to make my job easier comparing the data in different years."
      ],
      "metadata": {
        "id": "rlVzQ6M-pWlE"
      }
    },
    {
      "cell_type": "code",
      "source": [
        "uploaded = files.upload()\n",
        "\n",
        "file_name = list(uploaded.keys())[0]\n",
        "\n",
        "with open(file_name, 'r', encoding='utf-8') as file:\n",
        "    data = json.load(file)\n",
        "\n",
        "df = pd.json_normalize(data)\n",
        "\n",
        "df['time'] = pd.to_datetime(df['time'], errors='coerce')\n",
        "\n",
        "df['year'] = df['time'].dt.year\n",
        "df['date'] = df['time'].dt.date\n",
        "\n",
        "df = df.sort_values(by='time')"
      ],
      "metadata": {
        "colab": {
          "base_uri": "https://localhost:8080/",
          "height": 74
        },
        "id": "CgPyxYuNnyBq",
        "outputId": "2f95966f-4f4d-4bbd-8126-d0065ceb6537"
      },
      "execution_count": 63,
      "outputs": [
        {
          "output_type": "display_data",
          "data": {
            "text/plain": [
              "<IPython.core.display.HTML object>"
            ],
            "text/html": [
              "\n",
              "     <input type=\"file\" id=\"files-b77fa8f3-7156-4bdc-907a-eeafdfdd8ed4\" name=\"files[]\" multiple disabled\n",
              "        style=\"border:none\" />\n",
              "     <output id=\"result-b77fa8f3-7156-4bdc-907a-eeafdfdd8ed4\">\n",
              "      Upload widget is only available when the cell has been executed in the\n",
              "      current browser session. Please rerun this cell to enable.\n",
              "      </output>\n",
              "      <script>// Copyright 2017 Google LLC\n",
              "//\n",
              "// Licensed under the Apache License, Version 2.0 (the \"License\");\n",
              "// you may not use this file except in compliance with the License.\n",
              "// You may obtain a copy of the License at\n",
              "//\n",
              "//      http://www.apache.org/licenses/LICENSE-2.0\n",
              "//\n",
              "// Unless required by applicable law or agreed to in writing, software\n",
              "// distributed under the License is distributed on an \"AS IS\" BASIS,\n",
              "// WITHOUT WARRANTIES OR CONDITIONS OF ANY KIND, either express or implied.\n",
              "// See the License for the specific language governing permissions and\n",
              "// limitations under the License.\n",
              "\n",
              "/**\n",
              " * @fileoverview Helpers for google.colab Python module.\n",
              " */\n",
              "(function(scope) {\n",
              "function span(text, styleAttributes = {}) {\n",
              "  const element = document.createElement('span');\n",
              "  element.textContent = text;\n",
              "  for (const key of Object.keys(styleAttributes)) {\n",
              "    element.style[key] = styleAttributes[key];\n",
              "  }\n",
              "  return element;\n",
              "}\n",
              "\n",
              "// Max number of bytes which will be uploaded at a time.\n",
              "const MAX_PAYLOAD_SIZE = 100 * 1024;\n",
              "\n",
              "function _uploadFiles(inputId, outputId) {\n",
              "  const steps = uploadFilesStep(inputId, outputId);\n",
              "  const outputElement = document.getElementById(outputId);\n",
              "  // Cache steps on the outputElement to make it available for the next call\n",
              "  // to uploadFilesContinue from Python.\n",
              "  outputElement.steps = steps;\n",
              "\n",
              "  return _uploadFilesContinue(outputId);\n",
              "}\n",
              "\n",
              "// This is roughly an async generator (not supported in the browser yet),\n",
              "// where there are multiple asynchronous steps and the Python side is going\n",
              "// to poll for completion of each step.\n",
              "// This uses a Promise to block the python side on completion of each step,\n",
              "// then passes the result of the previous step as the input to the next step.\n",
              "function _uploadFilesContinue(outputId) {\n",
              "  const outputElement = document.getElementById(outputId);\n",
              "  const steps = outputElement.steps;\n",
              "\n",
              "  const next = steps.next(outputElement.lastPromiseValue);\n",
              "  return Promise.resolve(next.value.promise).then((value) => {\n",
              "    // Cache the last promise value to make it available to the next\n",
              "    // step of the generator.\n",
              "    outputElement.lastPromiseValue = value;\n",
              "    return next.value.response;\n",
              "  });\n",
              "}\n",
              "\n",
              "/**\n",
              " * Generator function which is called between each async step of the upload\n",
              " * process.\n",
              " * @param {string} inputId Element ID of the input file picker element.\n",
              " * @param {string} outputId Element ID of the output display.\n",
              " * @return {!Iterable<!Object>} Iterable of next steps.\n",
              " */\n",
              "function* uploadFilesStep(inputId, outputId) {\n",
              "  const inputElement = document.getElementById(inputId);\n",
              "  inputElement.disabled = false;\n",
              "\n",
              "  const outputElement = document.getElementById(outputId);\n",
              "  outputElement.innerHTML = '';\n",
              "\n",
              "  const pickedPromise = new Promise((resolve) => {\n",
              "    inputElement.addEventListener('change', (e) => {\n",
              "      resolve(e.target.files);\n",
              "    });\n",
              "  });\n",
              "\n",
              "  const cancel = document.createElement('button');\n",
              "  inputElement.parentElement.appendChild(cancel);\n",
              "  cancel.textContent = 'Cancel upload';\n",
              "  const cancelPromise = new Promise((resolve) => {\n",
              "    cancel.onclick = () => {\n",
              "      resolve(null);\n",
              "    };\n",
              "  });\n",
              "\n",
              "  // Wait for the user to pick the files.\n",
              "  const files = yield {\n",
              "    promise: Promise.race([pickedPromise, cancelPromise]),\n",
              "    response: {\n",
              "      action: 'starting',\n",
              "    }\n",
              "  };\n",
              "\n",
              "  cancel.remove();\n",
              "\n",
              "  // Disable the input element since further picks are not allowed.\n",
              "  inputElement.disabled = true;\n",
              "\n",
              "  if (!files) {\n",
              "    return {\n",
              "      response: {\n",
              "        action: 'complete',\n",
              "      }\n",
              "    };\n",
              "  }\n",
              "\n",
              "  for (const file of files) {\n",
              "    const li = document.createElement('li');\n",
              "    li.append(span(file.name, {fontWeight: 'bold'}));\n",
              "    li.append(span(\n",
              "        `(${file.type || 'n/a'}) - ${file.size} bytes, ` +\n",
              "        `last modified: ${\n",
              "            file.lastModifiedDate ? file.lastModifiedDate.toLocaleDateString() :\n",
              "                                    'n/a'} - `));\n",
              "    const percent = span('0% done');\n",
              "    li.appendChild(percent);\n",
              "\n",
              "    outputElement.appendChild(li);\n",
              "\n",
              "    const fileDataPromise = new Promise((resolve) => {\n",
              "      const reader = new FileReader();\n",
              "      reader.onload = (e) => {\n",
              "        resolve(e.target.result);\n",
              "      };\n",
              "      reader.readAsArrayBuffer(file);\n",
              "    });\n",
              "    // Wait for the data to be ready.\n",
              "    let fileData = yield {\n",
              "      promise: fileDataPromise,\n",
              "      response: {\n",
              "        action: 'continue',\n",
              "      }\n",
              "    };\n",
              "\n",
              "    // Use a chunked sending to avoid message size limits. See b/62115660.\n",
              "    let position = 0;\n",
              "    do {\n",
              "      const length = Math.min(fileData.byteLength - position, MAX_PAYLOAD_SIZE);\n",
              "      const chunk = new Uint8Array(fileData, position, length);\n",
              "      position += length;\n",
              "\n",
              "      const base64 = btoa(String.fromCharCode.apply(null, chunk));\n",
              "      yield {\n",
              "        response: {\n",
              "          action: 'append',\n",
              "          file: file.name,\n",
              "          data: base64,\n",
              "        },\n",
              "      };\n",
              "\n",
              "      let percentDone = fileData.byteLength === 0 ?\n",
              "          100 :\n",
              "          Math.round((position / fileData.byteLength) * 100);\n",
              "      percent.textContent = `${percentDone}% done`;\n",
              "\n",
              "    } while (position < fileData.byteLength);\n",
              "  }\n",
              "\n",
              "  // All done.\n",
              "  yield {\n",
              "    response: {\n",
              "      action: 'complete',\n",
              "    }\n",
              "  };\n",
              "}\n",
              "\n",
              "scope.google = scope.google || {};\n",
              "scope.google.colab = scope.google.colab || {};\n",
              "scope.google.colab._files = {\n",
              "  _uploadFiles,\n",
              "  _uploadFilesContinue,\n",
              "};\n",
              "})(self);\n",
              "</script> "
            ]
          },
          "metadata": {}
        },
        {
          "output_type": "stream",
          "name": "stdout",
          "text": [
            "Saving izleme geçmişi.json to izleme geçmişi (4).json\n"
          ]
        }
      ]
    },
    {
      "cell_type": "markdown",
      "source": [
        "WATCH DURATIONS\n",
        "\n",
        "In this part, I calculated watch durations and identified Shorts videos based on title/URL. After that, I classified the videos as short if they are Shorts or watched for less than 60 seconds."
      ],
      "metadata": {
        "id": "mHnboBnSsnJc"
      }
    },
    {
      "cell_type": "code",
      "source": [
        "df['watch_duration'] = df.groupby('date')['time'].diff().dt.total_seconds()\n",
        "\n",
        "df['is_shorts'] = df['title'].str.contains('#shorts', case=False) | df['titleUrl'].str.contains('/shorts/')\n",
        "\n",
        "df['less_than_60_seconds'] = df['is_shorts'] | (df['watch_duration'] <= 60)"
      ],
      "metadata": {
        "id": "h-WereqosZyc"
      },
      "execution_count": 64,
      "outputs": []
    },
    {
      "cell_type": "markdown",
      "source": [
        "NUMBER OF VIDEOS PER YEAR\n",
        "\n",
        "I grouped the videos by year as 2023 or 2024. I calculated the number of videos that I watched each year and created a bar chart to visualize the difference in my Youtube usage between 2023 and 2024."
      ],
      "metadata": {
        "id": "Qrf7yh4DtI7U"
      }
    },
    {
      "cell_type": "code",
      "source": [
        "df_filtered = df[df['year'].isin([2023, 2024])]\n",
        "\n",
        "videos_watched_per_year = df_filtered.groupby('year')['title'].count()\n",
        "\n",
        "plt.figure(figsize=(12, 6))\n",
        "videos_watched_per_year.plot(kind='bar', color='skyblue')\n",
        "plt.title(\"Number of YouTube Videos Watched (2023-2024)\")\n",
        "plt.xlabel(\"Year\")\n",
        "plt.ylabel(\"Number of Videos Watched\")\n",
        "plt.xticks(rotation=0)\n",
        "plt.show()\n",
        "\n",
        "print(\"Number of YouTube Videos Watched in 2023 and 2024:\")\n",
        "print(videos_watched_per_year)"
      ],
      "metadata": {
        "colab": {
          "base_uri": "https://localhost:8080/",
          "height": 655
        },
        "id": "pm3X-amztIAL",
        "outputId": "9d131253-e0be-4c36-a0e6-877b7f3f4e48"
      },
      "execution_count": 65,
      "outputs": [
        {
          "output_type": "display_data",
          "data": {
            "text/plain": [
              "<Figure size 1200x600 with 1 Axes>"
            ],
            "image/png": "[encoded data removed]"
          },
          "metadata": {}
        },
        {
          "output_type": "stream",
          "name": "stdout",
          "text": [
            "Number of YouTube Videos Watched in 2023 and 2024:\n",
            "year\n",
            "2023.0     7374\n",
            "2024.0    11174\n",
            "Name: title, dtype: int64\n"
          ]
        }
      ]
    },
    {
      "cell_type": "markdown",
      "source": [
        "SHORT VS. LONG VIDEOS VIDEOS PER YEAR\n",
        "\n",
        "I filtered short and long videos per year and created a dataframe. I calculated the number of short and long videos that I watched in each year and visualized using a bar chart."
      ],
      "metadata": {
        "id": "OsJtlCzYtxzE"
      }
    },
    {
      "cell_type": "code",
      "source": [
        "short_videos_per_year = df_filtered[df_filtered['less_than_60_seconds']].groupby('year')['title'].count()\n",
        "long_videos_per_year = df_filtered[~df_filtered['less_than_60_seconds']].groupby('year')['title'].count()\n",
        "\n",
        "videos_per_year = pd.DataFrame({\n",
        "    'Short Videos': short_videos_per_year,\n",
        "    'Long Videos': long_videos_per_year\n",
        "}).fillna(0)\n",
        "\n",
        "videos_per_year.plot(kind='bar', figsize=(12, 6), color=['skyblue', 'orange'])\n",
        "plt.title(\"Number of Short and Long Videos Watched Per Year (2023-2024)\")\n",
        "plt.xlabel(\"Year\")\n",
        "plt.ylabel(\"Number of Videos Watched\")\n",
        "plt.xticks(rotation=0)\n",
        "plt.legend(title=\"Video Type\")\n",
        "plt.show()\n",
        "\n",
        "print(\"Number of Short and Long Videos Watched in 2023 and 2024:\")\n",
        "print(videos_per_year)"
      ],
      "metadata": {
        "colab": {
          "base_uri": "https://localhost:8080/",
          "height": 655
        },
        "id": "2O2YlLKltxDW",
        "outputId": "9ac61526-dc39-4dc8-947e-986ec401194a"
      },
      "execution_count": 66,
      "outputs": [
        {
          "output_type": "display_data",
          "data": {
            "text/plain": [
              "<Figure size 1200x600 with 1 Axes>"
            ],
            "image/png": "[encoded data removed]"
          },
          "metadata": {}
        },
        {
          "output_type": "stream",
          "name": "stdout",
          "text": [
            "Number of Short and Long Videos Watched in 2023 and 2024:\n",
            "        Short Videos  Long Videos\n",
            "year                             \n",
            "2023.0          5454         1920\n",
            "2024.0          8650         2524\n"
          ]
        }
      ]
    },
    {
      "cell_type": "markdown",
      "source": [
        "ONE TAILED T-TEST\n",
        "\n",
        "I conducted a one tailed t-test to test the hypothesis that the average duration of YouTube videos that I watched has decreased from 2023 to 2024. According to our p-value of 0.12 the difference between the average durations is not significant. ALthough there is a decrease in the duration of videos that I watch between 2023 and 2024, we fail to reject the null hypothesis. There is no enough evidence to conclude that I tended to watch shorter videos in 2024 compared to 2023."
      ],
      "metadata": {
        "id": "LXcJX2KmugFs"
      }
    },
    {
      "cell_type": "code",
      "source": [
        "durations_2023 = df_filtered[(df_filtered['year'] == 2023) & (df_filtered['watch_duration'] <= 60)]['watch_duration'].dropna()\n",
        "durations_2024 = df_filtered[(df_filtered['year'] == 2024) & (df_filtered['watch_duration'] <= 60)]['watch_duration'].dropna()\n",
        "\n",
        "t_stat, p_value = ttest_ind(durations_2023, durations_2024, alternative='less')\n",
        "\n",
        "print(\"T-statistic:\", t_stat)\n",
        "print(\"P-value:\", p_value)"
      ],
      "metadata": {
        "colab": {
          "base_uri": "https://localhost:8080/"
        },
        "id": "-e8K-p5Vufel",
        "outputId": "73a0e5c8-d4e5-49c8-ee91-3be146b67193"
      },
      "execution_count": 67,
      "outputs": [
        {
          "output_type": "stream",
          "name": "stdout",
          "text": [
            "T-statistic: -1.172232060102812\n",
            "P-value: 0.120562197897826\n"
          ]
        }
      ]
    }
  ]
}